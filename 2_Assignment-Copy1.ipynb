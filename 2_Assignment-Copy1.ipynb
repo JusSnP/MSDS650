{
 "cells": [
  {
   "cell_type": "markdown",
   "metadata": {},
   "source": [
    "\n",
    "# Week 2 Lab - Calculating Probability and Proportion"
   ]
  },
  {
   "cell_type": "markdown",
   "metadata": {},
   "source": [
    "<img align=\"left\" style=\"padding-right:10px;\" src=\"figures_wk2/sampling_bias.png\" width=400>\n",
    "\n",
    "This week's assignment will give you some practice calculating and interpretting probablity and proportions.\n",
    "\n",
    "**Dataset Name::** flights.csv, airlines.csv, airports.csv (found in the assign_wk2 folder)<br>\n",
    "You really only need the flights.csv to complete the assignment, however, the other two datasets provide some reference info that you might find interesting. \n",
    "\n",
    "Since the original flights dataset has **lots** of missing data, I have provided a cleaned up version for you to use (flights_clean.csv). I have also provided the notebook that I used to clean up the dataset (Clean_Flights_Data). \n",
    "\n",
    "For those of you who wish to try your hand at data cleaning, I have provided a notebook demonstrating data imputation data (Demo_Imputing_Data). You get to decide which version of the dataset you wish to use."
   ]
  },
  {
   "cell_type": "markdown",
   "metadata": {},
   "source": [
    "# Assignment Requirements\n",
    "Here are the requirements for this week's assignment:\n",
    "1) Load your choice of dataset (either flights.csv **OR** flights_clean.csv)\n",
    "   - If you are going to clean the dataset yourself, here are some hints:\n",
    "      * Warning!! You are going to need some of the rows/columns with missing values, so don't just throw them away while creating your dataframe\n",
    "      * The column 'ARRIVAL_DELAY' tells you the number of minutes the flight actually arrived verses the scheduled arrival. There are a fair number of missing values for this column, impute (see Demo_Imputing_Data for ideas) this column. Document your approach!\n",
    "      * Hint: A negative number means the flight arrived early.\n",
    "      * Hint: What other columns might you use to fill in this missing data.\n",
    "   - If you are going to start with cleaned_dataset, I encourage you to look at what I did to clean up this data. It will help you going forward   \n",
    "\n",
    "2) For this dataset, determine the following: \n",
    "    - Which airport(s) had the largest proportion of flights arriving late at their destination airport?\n",
    "        * What the airport(s) with the lowest proportion of late arriving flights at their destination airport?\n",
    "    - Calculate the probability of a flight arriving late at any given airport?\n",
    "    - Define a question that would utilize Bernoulli's Equation and perform a calculation to support your question?\n",
    "    \n",
    "3) Provide an analysis for the following scenario based on the calculation you performed above.\n",
    "   - The US Transportation and Safety Administration have ask all US based airports to provide a report on the timeliness of their airport operations. Select one of the airports within the dataset to represent. Part of the concern is how quickly your airport can turn airports around and free up gates for newly arriving aircraft. For your analysis, pick three additional airports and compare/contrast the timeliness of flights arriving the airport you represent. <br>\n",
    "        - Hint: Don't use code to explain your analysis. The individuals reading your analysis do not have a technical background. Defend all of your thoughts and reasoning!!!!"
   ]
  },
  {
   "cell_type": "markdown",
   "metadata": {},
   "source": [
    "# Deliverables\n",
    "Upload your Jupyter Notebook to the corresponding location in WorldClass. \n",
    "\n",
    "**Note::** Make sure you have clearly indicated each assignment requirement within your notebook."
   ]
  },
  {
   "cell_type": "code",
   "execution_count": null,
   "metadata": {},
   "outputs": [],
   "source": []
  }
 ],
 "metadata": {
  "kernelspec": {
   "display_name": "Python 3 (ipykernel)",
   "language": "python",
   "name": "python3"
  },
  "language_info": {
   "codemirror_mode": {
    "name": "ipython",
    "version": 3
   },
   "file_extension": ".py",
   "mimetype": "text/x-python",
   "name": "python",
   "nbconvert_exporter": "python",
   "pygments_lexer": "ipython3",
   "version": "3.9.13"
  },
  "toc-autonumbering": true
 },
 "nbformat": 4,
 "nbformat_minor": 4
}
